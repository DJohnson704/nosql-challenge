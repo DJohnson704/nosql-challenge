{
 "cells": [
  {
   "cell_type": "markdown",
   "id": "9a57c4c6",
   "metadata": {},
   "source": [
    "# Eat Safe, Love"
   ]
  },
  {
   "cell_type": "markdown",
   "id": "064ef857",
   "metadata": {},
   "source": [
    "## Part 1: Database and Jupyter Notebook Set Up"
   ]
  },
  {
   "cell_type": "markdown",
   "id": "664e3c1f",
   "metadata": {},
   "source": [
    "Import the data provided in the `establishments.json` file from your Terminal. Name the database `uk_food` and the collection `establishments`.\n",
    "\n",
    "Within this markdown cell, copy the line of text you used to import the data from your Terminal. This way, future analysts will be able to repeat your process.\n",
    "\n",
    "e.g.: Import the dataset with `YOUR IMPORT TEXT HERE`"
   ]
  },
  {
   "cell_type": "code",
   "execution_count": 31,
   "id": "3ecdd008",
   "metadata": {},
   "outputs": [],
   "source": [
    "# Import dependencies\n",
    "from pymongo import MongoClient\n",
    "from pprint import pprint\n",
    "import pandas as pd"
   ]
  },
  {
   "cell_type": "code",
   "execution_count": 33,
   "id": "59390c4a",
   "metadata": {},
   "outputs": [],
   "source": [
    "# Create an instance of MongoClient\n",
    "mongo = MongoClient(port=27017)"
   ]
  },
  {
   "cell_type": "code",
   "execution_count": 35,
   "id": "7f9ececa",
   "metadata": {},
   "outputs": [
    {
     "name": "stdout",
     "output_type": "stream",
     "text": [
      "['admin', 'agi_db', 'autosaurus', 'classDB', 'config', 'epa', 'fruits_DB', 'gardenDB', 'local', 'met', 'petsitly_marketing', 'travel_db', 'uk_foods']\n"
     ]
    }
   ],
   "source": [
    "# confirm that our new database was created\n",
    "print(mongo.list_database_names())"
   ]
  },
  {
   "cell_type": "code",
   "execution_count": 37,
   "id": "71e373c1",
   "metadata": {},
   "outputs": [],
   "source": [
    "# assign the uk_food database to a variable name\n",
    "db = mongo['uk_foods']"
   ]
  },
  {
   "cell_type": "code",
   "execution_count": 39,
   "id": "ef1b89ed",
   "metadata": {},
   "outputs": [
    {
     "data": {
      "text/plain": [
       "['establishments']"
      ]
     },
     "execution_count": 39,
     "metadata": {},
     "output_type": "execute_result"
    }
   ],
   "source": [
    "# review the collections in our new database\n",
    "collections = db.list_collection_names()\n",
    "collections"
   ]
  },
  {
   "cell_type": "code",
   "execution_count": 41,
   "id": "6a0d92df",
   "metadata": {},
   "outputs": [
    {
     "data": {
      "text/html": [
       "<div>\n",
       "<style scoped>\n",
       "    .dataframe tbody tr th:only-of-type {\n",
       "        vertical-align: middle;\n",
       "    }\n",
       "\n",
       "    .dataframe tbody tr th {\n",
       "        vertical-align: top;\n",
       "    }\n",
       "\n",
       "    .dataframe thead th {\n",
       "        text-align: right;\n",
       "    }\n",
       "</style>\n",
       "<table border=\"1\" class=\"dataframe\">\n",
       "  <thead>\n",
       "    <tr style=\"text-align: right;\">\n",
       "      <th></th>\n",
       "      <th>_id</th>\n",
       "      <th>FHRSID</th>\n",
       "      <th>ChangesByServerID</th>\n",
       "      <th>LocalAuthorityBusinessID</th>\n",
       "      <th>BusinessName</th>\n",
       "      <th>BusinessType</th>\n",
       "      <th>BusinessTypeID</th>\n",
       "      <th>AddressLine1</th>\n",
       "      <th>AddressLine2</th>\n",
       "      <th>AddressLine3</th>\n",
       "      <th>...</th>\n",
       "      <th>LocalAuthorityWebSite</th>\n",
       "      <th>LocalAuthorityEmailAddress</th>\n",
       "      <th>scores</th>\n",
       "      <th>SchemeType</th>\n",
       "      <th>geocode</th>\n",
       "      <th>RightToReply</th>\n",
       "      <th>Distance</th>\n",
       "      <th>NewRatingPending</th>\n",
       "      <th>meta</th>\n",
       "      <th>links</th>\n",
       "    </tr>\n",
       "  </thead>\n",
       "  <tbody>\n",
       "    <tr>\n",
       "      <th>0</th>\n",
       "      <td>66c548ab97dff3831ef4e699</td>\n",
       "      <td>1034540</td>\n",
       "      <td>0</td>\n",
       "      <td>PI/000078691</td>\n",
       "      <td>The Coastguard Inn</td>\n",
       "      <td>Pub/bar/nightclub</td>\n",
       "      <td>7843</td>\n",
       "      <td>The Bay</td>\n",
       "      <td>St Margarets Bay</td>\n",
       "      <td>Kent</td>\n",
       "      <td>...</td>\n",
       "      <td>http://www.dover.gov.uk/</td>\n",
       "      <td>publicprotection@dover.gov.uk</td>\n",
       "      <td>{'Hygiene': 0, 'Structural': 5, 'ConfidenceInM...</td>\n",
       "      <td>FHRS</td>\n",
       "      <td>{'longitude': '1.387974', 'latitude': '51.1522...</td>\n",
       "      <td></td>\n",
       "      <td>4587.347175</td>\n",
       "      <td>False</td>\n",
       "      <td>{'dataSource': None, 'extractDate': '0001-01-0...</td>\n",
       "      <td>[{'rel': 'self', 'href': 'https://api.ratings....</td>\n",
       "    </tr>\n",
       "    <tr>\n",
       "      <th>1</th>\n",
       "      <td>66c548ab97dff3831ef4e69a</td>\n",
       "      <td>254719</td>\n",
       "      <td>0</td>\n",
       "      <td>PI/000069980</td>\n",
       "      <td>Refreshment Kiosk</td>\n",
       "      <td>Restaurant/Cafe/Canteen</td>\n",
       "      <td>1</td>\n",
       "      <td>The Bay</td>\n",
       "      <td>St Margarets Bay</td>\n",
       "      <td>Kent</td>\n",
       "      <td>...</td>\n",
       "      <td>http://www.dover.gov.uk/</td>\n",
       "      <td>publicprotection@dover.gov.uk</td>\n",
       "      <td>{'Hygiene': 0, 'Structural': 5, 'ConfidenceInM...</td>\n",
       "      <td>FHRS</td>\n",
       "      <td>{'longitude': '1.387974', 'latitude': '51.1522...</td>\n",
       "      <td></td>\n",
       "      <td>4587.347175</td>\n",
       "      <td>False</td>\n",
       "      <td>{'dataSource': None, 'extractDate': '0001-01-0...</td>\n",
       "      <td>[{'rel': 'self', 'href': 'https://api.ratings....</td>\n",
       "    </tr>\n",
       "    <tr>\n",
       "      <th>2</th>\n",
       "      <td>66c548ab97dff3831ef4e69b</td>\n",
       "      <td>551803</td>\n",
       "      <td>0</td>\n",
       "      <td>PI/000070948</td>\n",
       "      <td>The Tea Room</td>\n",
       "      <td>Restaurant/Cafe/Canteen</td>\n",
       "      <td>1</td>\n",
       "      <td>The Pines Garden</td>\n",
       "      <td>Beach Road</td>\n",
       "      <td>St Margarets Bay</td>\n",
       "      <td>...</td>\n",
       "      <td>http://www.dover.gov.uk/</td>\n",
       "      <td>publicprotection@dover.gov.uk</td>\n",
       "      <td>{'Hygiene': 0, 'Structural': 0, 'ConfidenceInM...</td>\n",
       "      <td>FHRS</td>\n",
       "      <td>{'longitude': '1.383298', 'latitude': '51.1481...</td>\n",
       "      <td></td>\n",
       "      <td>4587.362403</td>\n",
       "      <td>False</td>\n",
       "      <td>{'dataSource': None, 'extractDate': '0001-01-0...</td>\n",
       "      <td>[{'rel': 'self', 'href': 'https://api.ratings....</td>\n",
       "    </tr>\n",
       "    <tr>\n",
       "      <th>3</th>\n",
       "      <td>66c548ab97dff3831ef4e69c</td>\n",
       "      <td>574015</td>\n",
       "      <td>0</td>\n",
       "      <td>PI/000069596</td>\n",
       "      <td>St Margarets At Cliffe Nursery And After Schoo...</td>\n",
       "      <td>Caring Premises</td>\n",
       "      <td>5</td>\n",
       "      <td>St Margarets At Cliffe C P School</td>\n",
       "      <td>Sea Street</td>\n",
       "      <td>St Margarets At Cliffe</td>\n",
       "      <td>...</td>\n",
       "      <td>http://www.dover.gov.uk/</td>\n",
       "      <td>publicprotection@dover.gov.uk</td>\n",
       "      <td>{'Hygiene': 5, 'Structural': 5, 'ConfidenceInM...</td>\n",
       "      <td>FHRS</td>\n",
       "      <td>{'longitude': '1.375095', 'latitude': '51.1529...</td>\n",
       "      <td></td>\n",
       "      <td>4587.840617</td>\n",
       "      <td>False</td>\n",
       "      <td>{'dataSource': None, 'extractDate': '0001-01-0...</td>\n",
       "      <td>[{'rel': 'self', 'href': 'https://api.ratings....</td>\n",
       "    </tr>\n",
       "    <tr>\n",
       "      <th>4</th>\n",
       "      <td>66c548ab97dff3831ef4e69d</td>\n",
       "      <td>254410</td>\n",
       "      <td>0</td>\n",
       "      <td>PI/000053944</td>\n",
       "      <td>St Margarets At Cliffe C P School</td>\n",
       "      <td>School/college/university</td>\n",
       "      <td>7845</td>\n",
       "      <td>Sea Street</td>\n",
       "      <td>St Margarets At Cliffe</td>\n",
       "      <td>Kent</td>\n",
       "      <td>...</td>\n",
       "      <td>http://www.dover.gov.uk/</td>\n",
       "      <td>publicprotection@dover.gov.uk</td>\n",
       "      <td>{'Hygiene': 0, 'Structural': 5, 'ConfidenceInM...</td>\n",
       "      <td>FHRS</td>\n",
       "      <td>{'longitude': '1.375095', 'latitude': '51.1529...</td>\n",
       "      <td></td>\n",
       "      <td>4587.840617</td>\n",
       "      <td>False</td>\n",
       "      <td>{'dataSource': None, 'extractDate': '0001-01-0...</td>\n",
       "      <td>[{'rel': 'self', 'href': 'https://api.ratings....</td>\n",
       "    </tr>\n",
       "  </tbody>\n",
       "</table>\n",
       "<p>5 rows × 28 columns</p>\n",
       "</div>"
      ],
      "text/plain": [
       "                        _id   FHRSID  ChangesByServerID  \\\n",
       "0  66c548ab97dff3831ef4e699  1034540                  0   \n",
       "1  66c548ab97dff3831ef4e69a   254719                  0   \n",
       "2  66c548ab97dff3831ef4e69b   551803                  0   \n",
       "3  66c548ab97dff3831ef4e69c   574015                  0   \n",
       "4  66c548ab97dff3831ef4e69d   254410                  0   \n",
       "\n",
       "  LocalAuthorityBusinessID                                       BusinessName  \\\n",
       "0             PI/000078691                                 The Coastguard Inn   \n",
       "1             PI/000069980                                  Refreshment Kiosk   \n",
       "2             PI/000070948                                       The Tea Room   \n",
       "3             PI/000069596  St Margarets At Cliffe Nursery And After Schoo...   \n",
       "4             PI/000053944                  St Margarets At Cliffe C P School   \n",
       "\n",
       "                BusinessType  BusinessTypeID  \\\n",
       "0          Pub/bar/nightclub            7843   \n",
       "1    Restaurant/Cafe/Canteen               1   \n",
       "2    Restaurant/Cafe/Canteen               1   \n",
       "3            Caring Premises               5   \n",
       "4  School/college/university            7845   \n",
       "\n",
       "                        AddressLine1            AddressLine2  \\\n",
       "0                            The Bay        St Margarets Bay   \n",
       "1                            The Bay        St Margarets Bay   \n",
       "2                   The Pines Garden              Beach Road   \n",
       "3  St Margarets At Cliffe C P School              Sea Street   \n",
       "4                         Sea Street  St Margarets At Cliffe   \n",
       "\n",
       "             AddressLine3  ...     LocalAuthorityWebSite  \\\n",
       "0                    Kent  ...  http://www.dover.gov.uk/   \n",
       "1                    Kent  ...  http://www.dover.gov.uk/   \n",
       "2        St Margarets Bay  ...  http://www.dover.gov.uk/   \n",
       "3  St Margarets At Cliffe  ...  http://www.dover.gov.uk/   \n",
       "4                    Kent  ...  http://www.dover.gov.uk/   \n",
       "\n",
       "      LocalAuthorityEmailAddress  \\\n",
       "0  publicprotection@dover.gov.uk   \n",
       "1  publicprotection@dover.gov.uk   \n",
       "2  publicprotection@dover.gov.uk   \n",
       "3  publicprotection@dover.gov.uk   \n",
       "4  publicprotection@dover.gov.uk   \n",
       "\n",
       "                                              scores SchemeType  \\\n",
       "0  {'Hygiene': 0, 'Structural': 5, 'ConfidenceInM...       FHRS   \n",
       "1  {'Hygiene': 0, 'Structural': 5, 'ConfidenceInM...       FHRS   \n",
       "2  {'Hygiene': 0, 'Structural': 0, 'ConfidenceInM...       FHRS   \n",
       "3  {'Hygiene': 5, 'Structural': 5, 'ConfidenceInM...       FHRS   \n",
       "4  {'Hygiene': 0, 'Structural': 5, 'ConfidenceInM...       FHRS   \n",
       "\n",
       "                                             geocode RightToReply  \\\n",
       "0  {'longitude': '1.387974', 'latitude': '51.1522...                \n",
       "1  {'longitude': '1.387974', 'latitude': '51.1522...                \n",
       "2  {'longitude': '1.383298', 'latitude': '51.1481...                \n",
       "3  {'longitude': '1.375095', 'latitude': '51.1529...                \n",
       "4  {'longitude': '1.375095', 'latitude': '51.1529...                \n",
       "\n",
       "      Distance NewRatingPending  \\\n",
       "0  4587.347175            False   \n",
       "1  4587.347175            False   \n",
       "2  4587.362403            False   \n",
       "3  4587.840617            False   \n",
       "4  4587.840617            False   \n",
       "\n",
       "                                                meta  \\\n",
       "0  {'dataSource': None, 'extractDate': '0001-01-0...   \n",
       "1  {'dataSource': None, 'extractDate': '0001-01-0...   \n",
       "2  {'dataSource': None, 'extractDate': '0001-01-0...   \n",
       "3  {'dataSource': None, 'extractDate': '0001-01-0...   \n",
       "4  {'dataSource': None, 'extractDate': '0001-01-0...   \n",
       "\n",
       "                                               links  \n",
       "0  [{'rel': 'self', 'href': 'https://api.ratings....  \n",
       "1  [{'rel': 'self', 'href': 'https://api.ratings....  \n",
       "2  [{'rel': 'self', 'href': 'https://api.ratings....  \n",
       "3  [{'rel': 'self', 'href': 'https://api.ratings....  \n",
       "4  [{'rel': 'self', 'href': 'https://api.ratings....  \n",
       "\n",
       "[5 rows x 28 columns]"
      ]
     },
     "execution_count": 41,
     "metadata": {},
     "output_type": "execute_result"
    }
   ],
   "source": [
    "# review a document in the establishments collection\n",
    "documents = pd.DataFrame(list(db['establishments'].find()))\n",
    "documents.head()"
   ]
  },
  {
   "cell_type": "code",
   "execution_count": 51,
   "id": "11c9f11b",
   "metadata": {},
   "outputs": [
    {
     "name": "stdout",
     "output_type": "stream",
     "text": [
      "Collection(Database(MongoClient(host=['localhost:27017'], document_class=dict, tz_aware=False, connect=True), 'uk_foods'), 'establishments')\n"
     ]
    }
   ],
   "source": [
    "# assign the collection to a variable\n",
    "establishments = db['establishments']\n",
    "pprint(establishments)"
   ]
  },
  {
   "cell_type": "markdown",
   "id": "d5671434",
   "metadata": {},
   "source": [
    "## Part 2: Update the Database"
   ]
  },
  {
   "cell_type": "markdown",
   "id": "314bd884",
   "metadata": {},
   "source": [
    "1. An exciting new halal restaurant just opened in Greenwich, but hasn't been rated yet. The magazine has asked you to include it in your analysis. Add the following restaurant \"Penang Flavours\" to the database."
   ]
  },
  {
   "cell_type": "code",
   "execution_count": 55,
   "id": "c2da7648",
   "metadata": {},
   "outputs": [],
   "source": [
    "# Create a dictionary for the new restaurant data\n",
    "Penang = {\n",
    "    \"BusinessName\":\"Penang Flavours\",\n",
    "    \"BusinessType\":\"Restaurant/Cafe/Canteen\",\n",
    "    \"BusinessTypeID\":\"\",\n",
    "    \"AddressLine1\":\"Penang Flavours\",\n",
    "    \"AddressLine2\":\"146A Plumstead Rd\",\n",
    "    \"AddressLine3\":\"London\",\n",
    "    \"AddressLine4\":\"\",\n",
    "    \"PostCode\":\"SE18 7DY\",\n",
    "    \"Phone\":\"\",\n",
    "    \"LocalAuthorityCode\":\"511\",\n",
    "    \"LocalAuthorityName\":\"Greenwich\",\n",
    "    \"LocalAuthorityWebSite\":\"http://www.royalgreenwich.gov.uk\",\n",
    "    \"LocalAuthorityEmailAddress\":\"health@royalgreenwich.gov.uk\",\n",
    "    \"scores\":{\n",
    "        \"Hygiene\":\"\",\n",
    "        \"Structural\":\"\",\n",
    "        \"ConfidenceInManagement\":\"\"\n",
    "    },\n",
    "    \"SchemeType\":\"FHRS\",\n",
    "    \"geocode\":{\n",
    "        \"longitude\":\"0.08384000\",\n",
    "        \"latitude\":\"51.49014200\"\n",
    "    },\n",
    "    \"RightToReply\":\"\",\n",
    "    \"Distance\":4623.9723280747176,\n",
    "    \"NewRatingPending\":True\n",
    "}"
   ]
  },
  {
   "cell_type": "code",
   "execution_count": 57,
   "id": "a6e5cece",
   "metadata": {},
   "outputs": [
    {
     "data": {
      "text/plain": [
       "InsertOneResult(ObjectId('66c54d6fcfd1870ed746ecc4'), acknowledged=True)"
      ]
     },
     "execution_count": 57,
     "metadata": {},
     "output_type": "execute_result"
    }
   ],
   "source": [
    "# Insert the new restaurant into the collection\n",
    "establishments.insert_one(Penang)"
   ]
  },
  {
   "cell_type": "code",
   "execution_count": 59,
   "id": "63bb10f9",
   "metadata": {},
   "outputs": [
    {
     "name": "stdout",
     "output_type": "stream",
     "text": [
      "{'AddressLine1': 'Penang Flavours',\n",
      " 'AddressLine2': '146A Plumstead Rd',\n",
      " 'AddressLine3': 'London',\n",
      " 'AddressLine4': '',\n",
      " 'BusinessName': 'Penang Flavours',\n",
      " 'BusinessType': 'Restaurant/Cafe/Canteen',\n",
      " 'BusinessTypeID': '',\n",
      " 'Distance': 4623.972328074718,\n",
      " 'LocalAuthorityCode': '511',\n",
      " 'LocalAuthorityEmailAddress': 'health@royalgreenwich.gov.uk',\n",
      " 'LocalAuthorityName': 'Greenwich',\n",
      " 'LocalAuthorityWebSite': 'http://www.royalgreenwich.gov.uk',\n",
      " 'NewRatingPending': True,\n",
      " 'Phone': '',\n",
      " 'PostCode': 'SE18 7DY',\n",
      " 'RightToReply': '',\n",
      " 'SchemeType': 'FHRS',\n",
      " '_id': ObjectId('66c54d6fcfd1870ed746ecc4'),\n",
      " 'geocode': {'latitude': '51.49014200', 'longitude': '0.08384000'},\n",
      " 'scores': {'ConfidenceInManagement': '', 'Hygiene': '', 'Structural': ''}}\n"
     ]
    }
   ],
   "source": [
    "# Check that the new restaurant was inserted\n",
    "query = {\"BusinessName\":\"Penang Flavours\"}\n",
    "results = establishments.find(query)\n",
    "\n",
    "for result in results:\n",
    "    pprint(result)"
   ]
  },
  {
   "cell_type": "markdown",
   "id": "0ef4395a",
   "metadata": {},
   "source": [
    "2. Find the BusinessTypeID for \"Restaurant/Cafe/Canteen\" and return only the `BusinessTypeID` and `BusinessType` fields."
   ]
  },
  {
   "cell_type": "code",
   "execution_count": 69,
   "id": "93c63829",
   "metadata": {},
   "outputs": [
    {
     "data": {
      "text/plain": [
       "{'BusinessType': 'Restaurant/Cafe/Canteen', 'BusinessTypeID': 1}"
      ]
     },
     "execution_count": 69,
     "metadata": {},
     "output_type": "execute_result"
    }
   ],
   "source": [
    "# Find the BusinessTypeID for \"Restaurant/Cafe/Canteen\" and return only the BusinessTypeID and BusinessType fields\n",
    "result = db['establishments'].find_one(\n",
    "    {\"BusinessType\": \"Restaurant/Cafe/Canteen\"},\n",
    "    {\"BusinessTypeID\": 1, \"BusinessType\": 1, \"_id\": 0}\n",
    ")\n",
    "\n",
    "result"
   ]
  },
  {
   "cell_type": "markdown",
   "id": "4e570caf",
   "metadata": {},
   "source": [
    "3. Update the new restaurant with the `BusinessTypeID` you found."
   ]
  },
  {
   "cell_type": "code",
   "execution_count": 71,
   "id": "7f599f3d",
   "metadata": {},
   "outputs": [
    {
     "data": {
      "text/plain": [
       "UpdateResult({'n': 1, 'nModified': 1, 'ok': 1.0, 'updatedExisting': True}, acknowledged=True)"
      ]
     },
     "execution_count": 71,
     "metadata": {},
     "output_type": "execute_result"
    }
   ],
   "source": [
    "# Update the new restaurant with the correct BusinessTypeID\n",
    "\n",
    "db['establishments'].update_one(\n",
    "    {\"BusinessName\": \"Penang Flavours\"},\n",
    "    {\"$set\": {\"BusinessTypeID\": 1}}\n",
    ")"
   ]
  },
  {
   "cell_type": "code",
   "execution_count": 75,
   "id": "a6ad16f7",
   "metadata": {},
   "outputs": [
    {
     "name": "stdout",
     "output_type": "stream",
     "text": [
      "{'AddressLine1': 'Penang Flavours',\n",
      " 'AddressLine2': '146A Plumstead Rd',\n",
      " 'AddressLine3': 'London',\n",
      " 'AddressLine4': '',\n",
      " 'BusinessName': 'Penang Flavours',\n",
      " 'BusinessType': 'Restaurant/Cafe/Canteen',\n",
      " 'BusinessTypeID': 1,\n",
      " 'Distance': 4623.972328074718,\n",
      " 'LocalAuthorityCode': '511',\n",
      " 'LocalAuthorityEmailAddress': 'health@royalgreenwich.gov.uk',\n",
      " 'LocalAuthorityName': 'Greenwich',\n",
      " 'LocalAuthorityWebSite': 'http://www.royalgreenwich.gov.uk',\n",
      " 'NewRatingPending': True,\n",
      " 'Phone': '',\n",
      " 'PostCode': 'SE18 7DY',\n",
      " 'RightToReply': '',\n",
      " 'SchemeType': 'FHRS',\n",
      " '_id': ObjectId('66c54d6fcfd1870ed746ecc4'),\n",
      " 'geocode': {'latitude': '51.49014200', 'longitude': '0.08384000'},\n",
      " 'scores': {'ConfidenceInManagement': '', 'Hygiene': '', 'Structural': ''}}\n"
     ]
    }
   ],
   "source": [
    "# Confirm that the new restaurant was updated\n",
    "query = {\"BusinessName\":\"Penang Flavours\"}\n",
    "results = establishments.find(query)\n",
    "\n",
    "for result in results:\n",
    "    pprint(result)"
   ]
  },
  {
   "cell_type": "markdown",
   "id": "67281254",
   "metadata": {},
   "source": [
    "4. The magazine is not interested in any establishments in Dover, so check how many documents contain the Dover Local Authority. Then, remove any establishments within the Dover Local Authority from the database, and check the number of documents to ensure they were deleted."
   ]
  },
  {
   "cell_type": "code",
   "execution_count": 77,
   "id": "768474a6",
   "metadata": {},
   "outputs": [
    {
     "data": {
      "text/plain": [
       "994"
      ]
     },
     "execution_count": 77,
     "metadata": {},
     "output_type": "execute_result"
    }
   ],
   "source": [
    "# Find how many documents have LocalAuthorityName as \"Dover\"\n",
    "dover = db['establishments'].count_documents({\"LocalAuthorityName\": \"Dover\"})\n",
    "dover"
   ]
  },
  {
   "cell_type": "code",
   "execution_count": 79,
   "id": "a11d5f1b",
   "metadata": {},
   "outputs": [
    {
     "data": {
      "text/plain": [
       "994"
      ]
     },
     "execution_count": 79,
     "metadata": {},
     "output_type": "execute_result"
    }
   ],
   "source": [
    "# Delete all documents where LocalAuthorityName is \"Dover\"\n",
    "delete = db['establishments'].delete_many({\"LocalAuthorityName\": \"Dover\"})\n",
    "delete.deleted_count"
   ]
  },
  {
   "cell_type": "code",
   "execution_count": 81,
   "id": "2a51aba0",
   "metadata": {},
   "outputs": [
    {
     "data": {
      "text/plain": [
       "0"
      ]
     },
     "execution_count": 81,
     "metadata": {},
     "output_type": "execute_result"
    }
   ],
   "source": [
    "# Check if any remaining documents include Dover\n",
    "dover = db['establishments'].count_documents({\"LocalAuthorityName\": \"Dover\"})\n",
    "dover"
   ]
  },
  {
   "cell_type": "code",
   "execution_count": 83,
   "id": "8c356f7b",
   "metadata": {},
   "outputs": [
    {
     "data": {
      "text/plain": [
       "{'_id': ObjectId('66c548ab97dff3831ef4e97e'),\n",
       " 'FHRSID': 647177,\n",
       " 'ChangesByServerID': 0,\n",
       " 'LocalAuthorityBusinessID': 'PI/000041489',\n",
       " 'BusinessName': 'Wear Bay Bowls Club',\n",
       " 'BusinessType': 'Pub/bar/nightclub',\n",
       " 'BusinessTypeID': 7843,\n",
       " 'AddressLine1': 'Wear Bay Road',\n",
       " 'AddressLine2': 'Folkestone',\n",
       " 'AddressLine3': 'Kent',\n",
       " 'AddressLine4': '',\n",
       " 'PostCode': 'CT19 6PY',\n",
       " 'Phone': '',\n",
       " 'RatingValue': '4',\n",
       " 'RatingKey': 'fhrs_4_en-gb',\n",
       " 'RatingDate': '2014-03-31T00:00:00',\n",
       " 'LocalAuthorityCode': '188',\n",
       " 'LocalAuthorityName': 'Folkestone and Hythe',\n",
       " 'LocalAuthorityWebSite': 'http://www.folkestone-hythe.gov.uk',\n",
       " 'LocalAuthorityEmailAddress': 'foodteam@folkestone-hythe.gov.uk',\n",
       " 'scores': {'Hygiene': 5, 'Structural': 5, 'ConfidenceInManagement': 10},\n",
       " 'SchemeType': 'FHRS',\n",
       " 'geocode': {'longitude': '1.196408', 'latitude': '51.086058'},\n",
       " 'RightToReply': '',\n",
       " 'Distance': 4591.821311183521,\n",
       " 'NewRatingPending': False,\n",
       " 'meta': {'dataSource': None,\n",
       "  'extractDate': '0001-01-01T00:00:00',\n",
       "  'itemCount': 0,\n",
       "  'returncode': None,\n",
       "  'totalCount': 0,\n",
       "  'totalPages': 0,\n",
       "  'pageSize': 0,\n",
       "  'pageNumber': 0},\n",
       " 'links': [{'rel': 'self',\n",
       "   'href': 'https://api.ratings.food.gov.uk/establishments/647177'}]}"
      ]
     },
     "execution_count": 83,
     "metadata": {},
     "output_type": "execute_result"
    }
   ],
   "source": [
    "# Check that other documents remain with 'find_one'\n",
    "new = db['establishments'].find_one({\"LocalAuthorityName\": {\"$ne\": \"Dover\"}})\n",
    "new"
   ]
  },
  {
   "attachments": {},
   "cell_type": "markdown",
   "id": "e9f1662d",
   "metadata": {},
   "source": [
    "5. Some of the number values are stored as strings, when they should be stored as numbers."
   ]
  },
  {
   "attachments": {},
   "cell_type": "markdown",
   "id": "c46df2df",
   "metadata": {},
   "source": [
    "Use `update_many` to convert `latitude` and `longitude` to decimal numbers."
   ]
  },
  {
   "cell_type": "code",
   "execution_count": 87,
   "id": "fa2a8eb2-a990-4d8a-a93a-92bf5b2d7897",
   "metadata": {},
   "outputs": [
    {
     "data": {
      "text/plain": [
       "<pymongo.cursor.Cursor at 0x19665919690>"
      ]
     },
     "execution_count": 87,
     "metadata": {},
     "output_type": "execute_result"
    }
   ],
   "source": [
    "documents = db['establishments'].find({\"location.coordinates\": {\"$type\": \"string\"}})\n",
    "documents"
   ]
  },
  {
   "cell_type": "code",
   "execution_count": 89,
   "id": "fd4112ce",
   "metadata": {},
   "outputs": [],
   "source": [
    "# Change the data type from String to Decimal for longitude and latitude\n",
    "for doc in documents:\n",
    "    longitude_str, latitude_str = doc['location']['coordinates']\n",
    "    longitude = Decimal(longitude_str)\n",
    "    latitude = Decimal(latitude_str)\n",
    "    \n",
    "    db['establishments'].update_one(\n",
    "        {\"_id\": doc[\"_id\"]},\n",
    "        {\"$set\": {\"location.coordinates\": [longitude, latitude]}}\n",
    "    )\n",
    "\n"
   ]
  },
  {
   "attachments": {},
   "cell_type": "markdown",
   "id": "142e319c",
   "metadata": {},
   "source": [
    "Use `update_many` to convert `RatingValue` to integer numbers."
   ]
  },
  {
   "cell_type": "code",
   "execution_count": 91,
   "id": "04430a5b",
   "metadata": {},
   "outputs": [
    {
     "data": {
      "text/plain": [
       "UpdateResult({'n': 4091, 'nModified': 4091, 'ok': 1.0, 'updatedExisting': True}, acknowledged=True)"
      ]
     },
     "execution_count": 91,
     "metadata": {},
     "output_type": "execute_result"
    }
   ],
   "source": [
    "# Set non 1-5 Rating Values to Null\n",
    "non_ratings = [\"AwaitingInspection\", \"Awaiting Inspection\", \"AwaitingPublication\", \"Pass\", \"Exempt\"]\n",
    "establishments.update_many({\"RatingValue\": {\"$in\": non_ratings}}, [ {'$set':{ \"RatingValue\" : None}} ])"
   ]
  },
  {
   "cell_type": "code",
   "execution_count": 97,
   "id": "33f57fe0-efe5-483c-9bdf-c186c3467cc4",
   "metadata": {},
   "outputs": [
    {
     "data": {
      "text/plain": [
       "<pymongo.cursor.Cursor at 0x19665a650d0>"
      ]
     },
     "execution_count": 97,
     "metadata": {},
     "output_type": "execute_result"
    }
   ],
   "source": [
    "documents = db['establishments'].find({\"RatingValue\": {\"$type\": \"string\"}})\n",
    "documents"
   ]
  },
  {
   "cell_type": "code",
   "execution_count": 99,
   "id": "92524ccc",
   "metadata": {},
   "outputs": [],
   "source": [
    "# Change the data type from String to Integer for RatingValue\n",
    "for doc in documents:\n",
    "    rating_value_int = int(doc['RatingValue'])\n",
    "    \n",
    "    db['establishments'].update_one(\n",
    "        {\"_id\": doc[\"_id\"]},\n",
    "        {\"$set\": {\"RatingValue\": rating_value_int}}\n",
    "    )"
   ]
  },
  {
   "cell_type": "code",
   "execution_count": 109,
   "id": "0deacaf9",
   "metadata": {},
   "outputs": [
    {
     "data": {
      "text/html": [
       "<div>\n",
       "<style scoped>\n",
       "    .dataframe tbody tr th:only-of-type {\n",
       "        vertical-align: middle;\n",
       "    }\n",
       "\n",
       "    .dataframe tbody tr th {\n",
       "        vertical-align: top;\n",
       "    }\n",
       "\n",
       "    .dataframe thead th {\n",
       "        text-align: right;\n",
       "    }\n",
       "</style>\n",
       "<table border=\"1\" class=\"dataframe\">\n",
       "  <thead>\n",
       "    <tr style=\"text-align: right;\">\n",
       "      <th></th>\n",
       "      <th>_id</th>\n",
       "      <th>FHRSID</th>\n",
       "      <th>ChangesByServerID</th>\n",
       "      <th>LocalAuthorityBusinessID</th>\n",
       "      <th>BusinessName</th>\n",
       "      <th>BusinessType</th>\n",
       "      <th>BusinessTypeID</th>\n",
       "      <th>AddressLine1</th>\n",
       "      <th>AddressLine2</th>\n",
       "      <th>AddressLine3</th>\n",
       "      <th>...</th>\n",
       "      <th>LocalAuthorityWebSite</th>\n",
       "      <th>LocalAuthorityEmailAddress</th>\n",
       "      <th>scores</th>\n",
       "      <th>SchemeType</th>\n",
       "      <th>geocode</th>\n",
       "      <th>RightToReply</th>\n",
       "      <th>Distance</th>\n",
       "      <th>NewRatingPending</th>\n",
       "      <th>meta</th>\n",
       "      <th>links</th>\n",
       "    </tr>\n",
       "  </thead>\n",
       "  <tbody>\n",
       "    <tr>\n",
       "      <th>0</th>\n",
       "      <td>66c548ab97dff3831ef4e97e</td>\n",
       "      <td>647177.0</td>\n",
       "      <td>0.0</td>\n",
       "      <td>PI/000041489</td>\n",
       "      <td>Wear Bay Bowls Club</td>\n",
       "      <td>Pub/bar/nightclub</td>\n",
       "      <td>7843</td>\n",
       "      <td>Wear Bay Road</td>\n",
       "      <td>Folkestone</td>\n",
       "      <td>Kent</td>\n",
       "      <td>...</td>\n",
       "      <td>http://www.folkestone-hythe.gov.uk</td>\n",
       "      <td>foodteam@folkestone-hythe.gov.uk</td>\n",
       "      <td>{'Hygiene': 5, 'Structural': 5, 'ConfidenceInM...</td>\n",
       "      <td>FHRS</td>\n",
       "      <td>{'longitude': '1.196408', 'latitude': '51.0860...</td>\n",
       "      <td></td>\n",
       "      <td>4591.821311</td>\n",
       "      <td>False</td>\n",
       "      <td>{'dataSource': None, 'extractDate': '0001-01-0...</td>\n",
       "      <td>[{'rel': 'self', 'href': 'https://api.ratings....</td>\n",
       "    </tr>\n",
       "    <tr>\n",
       "      <th>1</th>\n",
       "      <td>66c548ab97dff3831ef4e980</td>\n",
       "      <td>289353.0</td>\n",
       "      <td>0.0</td>\n",
       "      <td>PI/000002468</td>\n",
       "      <td>St Marys COE (aided) Primary School</td>\n",
       "      <td>School/college/university</td>\n",
       "      <td>7845</td>\n",
       "      <td>St Marys Church Of England Primary School</td>\n",
       "      <td>Warren Road</td>\n",
       "      <td>Folkestone</td>\n",
       "      <td>...</td>\n",
       "      <td>http://www.folkestone-hythe.gov.uk</td>\n",
       "      <td>foodteam@folkestone-hythe.gov.uk</td>\n",
       "      <td>{'Hygiene': 0, 'Structural': 0, 'ConfidenceInM...</td>\n",
       "      <td>FHRS</td>\n",
       "      <td>{'longitude': '1.194762', 'latitude': '51.0857...</td>\n",
       "      <td></td>\n",
       "      <td>4591.871474</td>\n",
       "      <td>False</td>\n",
       "      <td>{'dataSource': None, 'extractDate': '0001-01-0...</td>\n",
       "      <td>[{'rel': 'self', 'href': 'https://api.ratings....</td>\n",
       "    </tr>\n",
       "    <tr>\n",
       "      <th>2</th>\n",
       "      <td>66c548ab97dff3831ef4e981</td>\n",
       "      <td>1043695.0</td>\n",
       "      <td>0.0</td>\n",
       "      <td>PI/000073616</td>\n",
       "      <td>The Pavilion</td>\n",
       "      <td>Restaurant/Cafe/Canteen</td>\n",
       "      <td>1</td>\n",
       "      <td>East Cliff Pavilion</td>\n",
       "      <td>Wear Bay Road</td>\n",
       "      <td>Folkestone</td>\n",
       "      <td>...</td>\n",
       "      <td>http://www.folkestone-hythe.gov.uk</td>\n",
       "      <td>foodteam@folkestone-hythe.gov.uk</td>\n",
       "      <td>{'Hygiene': 5, 'Structural': 5, 'ConfidenceInM...</td>\n",
       "      <td>FHRS</td>\n",
       "      <td>{'longitude': '1.195625', 'latitude': '51.0838...</td>\n",
       "      <td></td>\n",
       "      <td>4591.765489</td>\n",
       "      <td>False</td>\n",
       "      <td>{'dataSource': None, 'extractDate': '0001-01-0...</td>\n",
       "      <td>[{'rel': 'self', 'href': 'https://api.ratings....</td>\n",
       "    </tr>\n",
       "    <tr>\n",
       "      <th>3</th>\n",
       "      <td>66c548ab97dff3831ef4e984</td>\n",
       "      <td>289352.0</td>\n",
       "      <td>0.0</td>\n",
       "      <td>PI/000002460</td>\n",
       "      <td>The Ship</td>\n",
       "      <td>Pub/bar/nightclub</td>\n",
       "      <td>7843</td>\n",
       "      <td>23 The Stade</td>\n",
       "      <td>Folkestone</td>\n",
       "      <td>Kent</td>\n",
       "      <td>...</td>\n",
       "      <td>http://www.folkestone-hythe.gov.uk</td>\n",
       "      <td>foodteam@folkestone-hythe.gov.uk</td>\n",
       "      <td>{'Hygiene': 5, 'Structural': 5, 'ConfidenceInM...</td>\n",
       "      <td>FHRS</td>\n",
       "      <td>{'longitude': '1.188537', 'latitude': '51.08084'}</td>\n",
       "      <td></td>\n",
       "      <td>4591.912145</td>\n",
       "      <td>False</td>\n",
       "      <td>{'dataSource': None, 'extractDate': '0001-01-0...</td>\n",
       "      <td>[{'rel': 'self', 'href': 'https://api.ratings....</td>\n",
       "    </tr>\n",
       "    <tr>\n",
       "      <th>4</th>\n",
       "      <td>66c548ab97dff3831ef4e986</td>\n",
       "      <td>987206.0</td>\n",
       "      <td>0.0</td>\n",
       "      <td>PI/000075655</td>\n",
       "      <td>The Ships Galley</td>\n",
       "      <td>Pub/bar/nightclub</td>\n",
       "      <td>7843</td>\n",
       "      <td>The Ship</td>\n",
       "      <td>23 The Stade</td>\n",
       "      <td>Folkestone</td>\n",
       "      <td>...</td>\n",
       "      <td>http://www.folkestone-hythe.gov.uk</td>\n",
       "      <td>foodteam@folkestone-hythe.gov.uk</td>\n",
       "      <td>{'Hygiene': 0, 'Structural': 0, 'ConfidenceInM...</td>\n",
       "      <td>FHRS</td>\n",
       "      <td>{'longitude': '1.188537', 'latitude': '51.08084'}</td>\n",
       "      <td></td>\n",
       "      <td>4591.912145</td>\n",
       "      <td>False</td>\n",
       "      <td>{'dataSource': None, 'extractDate': '0001-01-0...</td>\n",
       "      <td>[{'rel': 'self', 'href': 'https://api.ratings....</td>\n",
       "    </tr>\n",
       "  </tbody>\n",
       "</table>\n",
       "<p>5 rows × 28 columns</p>\n",
       "</div>"
      ],
      "text/plain": [
       "                        _id     FHRSID  ChangesByServerID  \\\n",
       "0  66c548ab97dff3831ef4e97e   647177.0                0.0   \n",
       "1  66c548ab97dff3831ef4e980   289353.0                0.0   \n",
       "2  66c548ab97dff3831ef4e981  1043695.0                0.0   \n",
       "3  66c548ab97dff3831ef4e984   289352.0                0.0   \n",
       "4  66c548ab97dff3831ef4e986   987206.0                0.0   \n",
       "\n",
       "  LocalAuthorityBusinessID                         BusinessName  \\\n",
       "0             PI/000041489                  Wear Bay Bowls Club   \n",
       "1             PI/000002468  St Marys COE (aided) Primary School   \n",
       "2             PI/000073616                         The Pavilion   \n",
       "3             PI/000002460                             The Ship   \n",
       "4             PI/000075655                     The Ships Galley   \n",
       "\n",
       "                BusinessType  BusinessTypeID  \\\n",
       "0          Pub/bar/nightclub            7843   \n",
       "1  School/college/university            7845   \n",
       "2    Restaurant/Cafe/Canteen               1   \n",
       "3          Pub/bar/nightclub            7843   \n",
       "4          Pub/bar/nightclub            7843   \n",
       "\n",
       "                                AddressLine1   AddressLine2 AddressLine3  ...  \\\n",
       "0                              Wear Bay Road     Folkestone         Kent  ...   \n",
       "1  St Marys Church Of England Primary School    Warren Road   Folkestone  ...   \n",
       "2                        East Cliff Pavilion  Wear Bay Road   Folkestone  ...   \n",
       "3                               23 The Stade     Folkestone         Kent  ...   \n",
       "4                                   The Ship   23 The Stade   Folkestone  ...   \n",
       "\n",
       "                LocalAuthorityWebSite        LocalAuthorityEmailAddress  \\\n",
       "0  http://www.folkestone-hythe.gov.uk  foodteam@folkestone-hythe.gov.uk   \n",
       "1  http://www.folkestone-hythe.gov.uk  foodteam@folkestone-hythe.gov.uk   \n",
       "2  http://www.folkestone-hythe.gov.uk  foodteam@folkestone-hythe.gov.uk   \n",
       "3  http://www.folkestone-hythe.gov.uk  foodteam@folkestone-hythe.gov.uk   \n",
       "4  http://www.folkestone-hythe.gov.uk  foodteam@folkestone-hythe.gov.uk   \n",
       "\n",
       "                                              scores  SchemeType  \\\n",
       "0  {'Hygiene': 5, 'Structural': 5, 'ConfidenceInM...        FHRS   \n",
       "1  {'Hygiene': 0, 'Structural': 0, 'ConfidenceInM...        FHRS   \n",
       "2  {'Hygiene': 5, 'Structural': 5, 'ConfidenceInM...        FHRS   \n",
       "3  {'Hygiene': 5, 'Structural': 5, 'ConfidenceInM...        FHRS   \n",
       "4  {'Hygiene': 0, 'Structural': 0, 'ConfidenceInM...        FHRS   \n",
       "\n",
       "                                             geocode RightToReply  \\\n",
       "0  {'longitude': '1.196408', 'latitude': '51.0860...                \n",
       "1  {'longitude': '1.194762', 'latitude': '51.0857...                \n",
       "2  {'longitude': '1.195625', 'latitude': '51.0838...                \n",
       "3  {'longitude': '1.188537', 'latitude': '51.08084'}                \n",
       "4  {'longitude': '1.188537', 'latitude': '51.08084'}                \n",
       "\n",
       "      Distance NewRatingPending  \\\n",
       "0  4591.821311            False   \n",
       "1  4591.871474            False   \n",
       "2  4591.765489            False   \n",
       "3  4591.912145            False   \n",
       "4  4591.912145            False   \n",
       "\n",
       "                                                meta  \\\n",
       "0  {'dataSource': None, 'extractDate': '0001-01-0...   \n",
       "1  {'dataSource': None, 'extractDate': '0001-01-0...   \n",
       "2  {'dataSource': None, 'extractDate': '0001-01-0...   \n",
       "3  {'dataSource': None, 'extractDate': '0001-01-0...   \n",
       "4  {'dataSource': None, 'extractDate': '0001-01-0...   \n",
       "\n",
       "                                               links  \n",
       "0  [{'rel': 'self', 'href': 'https://api.ratings....  \n",
       "1  [{'rel': 'self', 'href': 'https://api.ratings....  \n",
       "2  [{'rel': 'self', 'href': 'https://api.ratings....  \n",
       "3  [{'rel': 'self', 'href': 'https://api.ratings....  \n",
       "4  [{'rel': 'self', 'href': 'https://api.ratings....  \n",
       "\n",
       "[5 rows x 28 columns]"
      ]
     },
     "execution_count": 109,
     "metadata": {},
     "output_type": "execute_result"
    }
   ],
   "source": [
    "# Check that the coordinates and rating value are now numbers\n",
    "documents = pd.DataFrame(list(db['establishments'].find()))\n",
    "documents.head()"
   ]
  },
  {
   "cell_type": "code",
   "execution_count": 111,
   "id": "d3f92f7c-1783-4323-a523-bff209eac8df",
   "metadata": {},
   "outputs": [
    {
     "name": "stdout",
     "output_type": "stream",
     "text": [
      "<class 'pandas.core.frame.DataFrame'>\n",
      "RangeIndex: 38786 entries, 0 to 38785\n",
      "Data columns (total 28 columns):\n",
      " #   Column                      Non-Null Count  Dtype  \n",
      "---  ------                      --------------  -----  \n",
      " 0   _id                         38786 non-null  object \n",
      " 1   FHRSID                      38785 non-null  float64\n",
      " 2   ChangesByServerID           38785 non-null  float64\n",
      " 3   LocalAuthorityBusinessID    38785 non-null  object \n",
      " 4   BusinessName                38786 non-null  object \n",
      " 5   BusinessType                38786 non-null  object \n",
      " 6   BusinessTypeID              38786 non-null  int64  \n",
      " 7   AddressLine1                38786 non-null  object \n",
      " 8   AddressLine2                38786 non-null  object \n",
      " 9   AddressLine3                38786 non-null  object \n",
      " 10  AddressLine4                38786 non-null  object \n",
      " 11  PostCode                    38786 non-null  object \n",
      " 12  Phone                       38786 non-null  object \n",
      " 13  RatingValue                 34694 non-null  float64\n",
      " 14  RatingKey                   38785 non-null  object \n",
      " 15  RatingDate                  38785 non-null  object \n",
      " 16  LocalAuthorityCode          38786 non-null  object \n",
      " 17  LocalAuthorityName          38786 non-null  object \n",
      " 18  LocalAuthorityWebSite       38786 non-null  object \n",
      " 19  LocalAuthorityEmailAddress  38786 non-null  object \n",
      " 20  scores                      38786 non-null  object \n",
      " 21  SchemeType                  38786 non-null  object \n",
      " 22  geocode                     38786 non-null  object \n",
      " 23  RightToReply                38786 non-null  object \n",
      " 24  Distance                    38786 non-null  float64\n",
      " 25  NewRatingPending            38786 non-null  bool   \n",
      " 26  meta                        38785 non-null  object \n",
      " 27  links                       38785 non-null  object \n",
      "dtypes: bool(1), float64(4), int64(1), object(22)\n",
      "memory usage: 8.0+ MB\n"
     ]
    }
   ],
   "source": [
    "documents.info()"
   ]
  },
  {
   "cell_type": "code",
   "execution_count": null,
   "id": "b7fd7c37-f6cc-4802-bece-c457d538913e",
   "metadata": {},
   "outputs": [],
   "source": []
  }
 ],
 "metadata": {
  "kernelspec": {
   "display_name": "Python 3 (ipykernel)",
   "language": "python",
   "name": "python3"
  },
  "language_info": {
   "codemirror_mode": {
    "name": "ipython",
    "version": 3
   },
   "file_extension": ".py",
   "mimetype": "text/x-python",
   "name": "python",
   "nbconvert_exporter": "python",
   "pygments_lexer": "ipython3",
   "version": "3.11.7"
  }
 },
 "nbformat": 4,
 "nbformat_minor": 5
}
